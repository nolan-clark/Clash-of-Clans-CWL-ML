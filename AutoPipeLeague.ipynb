{
 "cells": [
  {
   "cell_type": "markdown",
   "id": "9289ef3b",
   "metadata": {},
   "source": [
    "# Clash of Clans CWL\n",
    "## Data pipeline build\n",
    "\n",
    "* Your Name: Nolan Clark\n",
    "* Name of API: Clash of Clans API\n",
    "* Link to main page of API documentation: https://developer.clashofclans.com/#/documentation"
   ]
  },
  {
   "cell_type": "code",
   "execution_count": 1,
   "id": "5e0a6347",
   "metadata": {},
   "outputs": [],
   "source": [
    "# Imports go here\n",
    "import requests\n",
    "import pandas as pd\n",
    "import numpy as np\n",
    "import MyKeys\n",
    "\n",
    "import json\n",
    "import datetime\n",
    "\n",
    "import CWL_Functions as cf\n",
    "from collections import Counter\n",
    "from collections import defaultdict\n",
    "\n",
    "import time\n",
    "\n",
    "# API Token used with the documented Authorization header. \n",
    "# The headers are the necessary params of each endpoint\n",
    "MyToken = MyKeys.MyToken\n",
    "headers = {'authorization': 'Bearer '+(MyToken), 'Accept': 'application/json'}\n",
    "base = 'https://api.clashofclans.com/v1/'\n",
    "\n",
    "# Automate pointers for the pipeline -- avoid erasing previous month\n",
    "month=datetime.datetime.now().strftime('%B')"
   ]
  },
  {
   "cell_type": "code",
   "execution_count": 2,
   "id": "79b4d4e4",
   "metadata": {},
   "outputs": [],
   "source": [
    "start_all= time.time()\n",
    "LeagueBins = {'Bronze League III': [],\n",
    " 'Bronze League II': [],\n",
    " 'Bronze League I': [],\n",
    " 'Silver League III': [],\n",
    " 'Silver League II': [],\n",
    " 'Silver League I': [],\n",
    " 'Gold League III': [],\n",
    " 'Gold League II': [],\n",
    " 'Gold League I': [],\n",
    " 'Crystal League III': [],\n",
    " 'Crystal League II': [],\n",
    " 'Crystal League I': [],\n",
    " 'Master League III': [],\n",
    " 'Master League II': [],\n",
    " 'Master League I': [],\n",
    " 'Champion League III': [],\n",
    " 'Champion League II': [],\n",
    " 'Champion League I': []}"
   ]
  },
  {
   "cell_type": "code",
   "execution_count": 3,
   "id": "c22bbd1a",
   "metadata": {},
   "outputs": [],
   "source": [
    "tag_bin = {'Bronze League III': [],\n",
    " 'Bronze League II': [],\n",
    " 'Bronze League I': [],\n",
    " 'Silver League III': [],\n",
    " 'Silver League II': [],\n",
    " 'Silver League I': [],\n",
    " 'Gold League III': [],\n",
    " 'Gold League II': [],\n",
    " 'Gold League I': [],\n",
    " 'Crystal League III': [],\n",
    " 'Crystal League II': [],\n",
    " 'Crystal League I': [],\n",
    " 'Master League III': [],\n",
    " 'Master League II': [],\n",
    " 'Master League I': [],\n",
    " 'Champion League III': [],\n",
    " 'Champion League II': [],\n",
    " 'Champion League I': []}"
   ]
  },
  {
   "cell_type": "code",
   "execution_count": 4,
   "id": "06207079",
   "metadata": {},
   "outputs": [],
   "source": [
    "def meltLeague(ClanTag):\n",
    "    url='https://api.clashofclans.com/v1/clans/%23'+ClanTag\n",
    "    response = requests.get(url, headers=headers, timeout=30)\n",
    "    #print(response.status_code, response.reason)\n",
    "    league= response.json()['warLeague']['name']\n",
    "    \n",
    "    \n",
    "    return league"
   ]
  },
  {
   "cell_type": "code",
   "execution_count": 5,
   "id": "39ecbaf8",
   "metadata": {},
   "outputs": [],
   "source": [
    "def grabTagsBig(ClanTag):\n",
    "    collect = []\n",
    "    \n",
    "    url='https://api.clashofclans.com/v1/clans/%23'+ClanTag+'/currentwar/leaguegroup'\n",
    "    response = requests.get(url, headers=headers, timeout=30)\n",
    "    #print(response.status_code, response.reason)\n",
    "    \n",
    "    \n",
    "    # range of 7 so that only CWL with all rounds will be pulled\n",
    "    for i in range(7):\n",
    "        collect.extend(response.json().get('rounds')[i].get('warTags'))\n",
    "    \n",
    "    collDict = collect\n",
    "    \n",
    "    return collDict"
   ]
  },
  {
   "cell_type": "code",
   "execution_count": 6,
   "id": "afbbc33e",
   "metadata": {},
   "outputs": [],
   "source": [
    "def search_clans_v2(**payload):\n",
    "    \n",
    "    \n",
    "    url='https://api.clashofclans.com/v1/clans?'\n",
    "    response = requests.get(url, headers=headers, params = payload, timeout=30)\n",
    "    print(response.status_code, response.reason)\n",
    "    \n",
    "    top_clans=[i['tag'].strip('#') for i in response.json()['items']]\n",
    "    \n",
    "    #top_clans=response.json()\n",
    "    \n",
    "    try:\n",
    "        after = response.json()['paging'].get('cursors')['after']\n",
    "    except:\n",
    "        after = False\n",
    "    \n",
    "    return top_clans, after"
   ]
  },
  {
   "cell_type": "code",
   "execution_count": 7,
   "id": "2bd7fa13",
   "metadata": {},
   "outputs": [
    {
     "name": "stdout",
     "output_type": "stream",
     "text": [
      "200 OK\n",
      "200 OK\n",
      "200 OK\n",
      "200 OK\n",
      "200 OK\n",
      "200 OK\n",
      "200 OK\n",
      "200 OK\n",
      "200 OK\n",
      "200 OK\n",
      "200 OK\n",
      "200 OK\n",
      "200 OK\n",
      "200 OK\n",
      "200 OK\n",
      "200 OK\n",
      "200 OK\n",
      "200 OK\n",
      "200 OK\n",
      "200 OK\n",
      "200 OK\n",
      "200 OK\n",
      "200 OK\n",
      "200 OK\n",
      "200 OK\n",
      "200 OK\n",
      "200 OK\n",
      "200 OK\n",
      "200 OK\n",
      "200 OK\n",
      "200 OK\n",
      "200 OK\n",
      "200 OK\n",
      "200 OK\n",
      "200 OK\n",
      "200 OK\n",
      "8.66434097290039\n"
     ]
    }
   ],
   "source": [
    "start = time.time()\n",
    "bucket = []\n",
    "clanPointInts = [20000,30000,40000,50000]\n",
    "\n",
    "for points in clanPointInts:\n",
    "    params = {'limit':'100','minClanPoints':points}\n",
    "    after_page = ''\n",
    "    while after_page != False:\n",
    "        all_tags = search_clans_v2(**params)\n",
    "        bucket.extend(all_tags[0])\n",
    "        after_page = all_tags[1]\n",
    "        params['after'] = after_page\n",
    "        \n",
    "end = time.time()\n",
    "print(end - start)"
   ]
  },
  {
   "cell_type": "code",
   "execution_count": 8,
   "id": "37ca3a74",
   "metadata": {},
   "outputs": [
    {
     "data": {
      "text/plain": [
       "3169"
      ]
     },
     "execution_count": 8,
     "metadata": {},
     "output_type": "execute_result"
    }
   ],
   "source": [
    "len(pd.unique(bucket))"
   ]
  },
  {
   "cell_type": "code",
   "execution_count": 9,
   "id": "6322c28d",
   "metadata": {},
   "outputs": [
    {
     "data": {
      "text/plain": [
       "3328"
      ]
     },
     "execution_count": 9,
     "metadata": {},
     "output_type": "execute_result"
    }
   ],
   "source": [
    "len(bucket)"
   ]
  },
  {
   "cell_type": "code",
   "execution_count": 10,
   "id": "d3ce3e6a",
   "metadata": {},
   "outputs": [],
   "source": [
    "top_clans = pd.unique(bucket)"
   ]
  },
  {
   "cell_type": "code",
   "execution_count": 11,
   "id": "b87f9961",
   "metadata": {},
   "outputs": [
    {
     "name": "stdout",
     "output_type": "stream",
     "text": [
      "1329.420260667801\n"
     ]
    }
   ],
   "source": [
    "start = time.time()\n",
    "inWar_bin = []\n",
    "for i in top_clans:\n",
    "    j = cf.status15(i)\n",
    "    if j != False:\n",
    "        inWar_bin.append(i)\n",
    "end = time.time()\n",
    "print(end - start)"
   ]
  },
  {
   "cell_type": "code",
   "execution_count": 12,
   "id": "bec9b93c",
   "metadata": {},
   "outputs": [
    {
     "name": "stdout",
     "output_type": "stream",
     "text": [
      "317.5609300136566\n"
     ]
    }
   ],
   "source": [
    "start = time.time()\n",
    "for clan in inWar_bin:\n",
    "    tag_bin[meltLeague(clan)].append(clan)\n",
    "end = time.time()\n",
    "print(end - start)"
   ]
  },
  {
   "cell_type": "markdown",
   "id": "a04f49f5",
   "metadata": {},
   "source": [
    "# Break This Step and split into two\n",
    "grab clan tags in beginning, write to JSON, then move forward around the end"
   ]
  },
  {
   "cell_type": "code",
   "execution_count": 13,
   "id": "0c26fe72",
   "metadata": {},
   "outputs": [
    {
     "data": {
      "text/plain": [
       "1259"
      ]
     },
     "execution_count": 13,
     "metadata": {},
     "output_type": "execute_result"
    }
   ],
   "source": [
    "len(inWar_bin)"
   ]
  },
  {
   "cell_type": "code",
   "execution_count": 14,
   "id": "5237284d",
   "metadata": {},
   "outputs": [
    {
     "data": {
      "text/plain": [
       "{'Bronze League III': 0,\n",
       " 'Bronze League II': 0,\n",
       " 'Bronze League I': 0,\n",
       " 'Silver League III': 1,\n",
       " 'Silver League II': 4,\n",
       " 'Silver League I': 8,\n",
       " 'Gold League III': 16,\n",
       " 'Gold League II': 57,\n",
       " 'Gold League I': 69,\n",
       " 'Crystal League III': 124,\n",
       " 'Crystal League II': 173,\n",
       " 'Crystal League I': 235,\n",
       " 'Master League III': 174,\n",
       " 'Master League II': 125,\n",
       " 'Master League I': 85,\n",
       " 'Champion League III': 99,\n",
       " 'Champion League II': 60,\n",
       " 'Champion League I': 29}"
      ]
     },
     "execution_count": 14,
     "metadata": {},
     "output_type": "execute_result"
    }
   ],
   "source": [
    "{key: (len(tag_bin[key])) for key in  tag_bin.keys()}"
   ]
  },
  {
   "cell_type": "code",
   "execution_count": 15,
   "id": "f6c7276c",
   "metadata": {},
   "outputs": [
    {
     "data": {
      "text/plain": [
       "{'Bronze League III': 0,\n",
       " 'Bronze League II': 0,\n",
       " 'Bronze League I': 0,\n",
       " 'Silver League III': 1,\n",
       " 'Silver League II': 4,\n",
       " 'Silver League I': 8,\n",
       " 'Gold League III': 16,\n",
       " 'Gold League II': 57,\n",
       " 'Gold League I': 69,\n",
       " 'Crystal League III': 124,\n",
       " 'Crystal League II': 173,\n",
       " 'Crystal League I': 235,\n",
       " 'Master League III': 174,\n",
       " 'Master League II': 125,\n",
       " 'Master League I': 85,\n",
       " 'Champion League III': 99,\n",
       " 'Champion League II': 60,\n",
       " 'Champion League I': 29}"
      ]
     },
     "execution_count": 15,
     "metadata": {},
     "output_type": "execute_result"
    }
   ],
   "source": [
    "{key: (len(pd.unique(tag_bin[key]))) for key in  tag_bin.keys()}"
   ]
  },
  {
   "cell_type": "code",
   "execution_count": 16,
   "id": "b49946e4",
   "metadata": {},
   "outputs": [
    {
     "name": "stdout",
     "output_type": "stream",
     "text": [
      "Bronze League III\n",
      "Bronze League II\n",
      "Bronze League I\n",
      "Silver League III\n",
      "Silver League II\n",
      "Silver League I\n",
      "Gold League III\n",
      "Gold League II\n",
      "Gold League I\n",
      "Crystal League III\n",
      "Crystal League II\n",
      "Crystal League I\n",
      "Master League III\n",
      "Master League II\n",
      "Master League I\n",
      "Champion League III\n",
      "Champion League II\n",
      "Champion League I\n"
     ]
    }
   ],
   "source": [
    "# LARGE GRAB\n",
    "\n",
    "leagueNames=list(tag_bin.keys())\n",
    "\n",
    "for league in leagueNames:\n",
    "    print(league)\n",
    "    for tag in tag_bin[league]:\n",
    "        try:\n",
    "            rounds = grabTagsBig(tag)\n",
    "            LeagueBins[league].extend(rounds)\n",
    "        except (TypeError, IndexError):\n",
    "            pass"
   ]
  },
  {
   "cell_type": "markdown",
   "id": "11fd3d66",
   "metadata": {},
   "source": [
    "# Diagnostics "
   ]
  },
  {
   "cell_type": "code",
   "execution_count": 17,
   "id": "da4bee80",
   "metadata": {},
   "outputs": [
    {
     "name": "stdout",
     "output_type": "stream",
     "text": [
      "1961.7520570755005\n"
     ]
    }
   ],
   "source": [
    "end_all = time.time()\n",
    "print(end_all - start_all)"
   ]
  },
  {
   "cell_type": "code",
   "execution_count": 18,
   "id": "c5a3f0fb",
   "metadata": {},
   "outputs": [
    {
     "data": {
      "text/plain": [
       "{'Bronze League III': 0,\n",
       " 'Bronze League II': 0,\n",
       " 'Bronze League I': 0,\n",
       " 'Silver League III': 28,\n",
       " 'Silver League II': 112,\n",
       " 'Silver League I': 224,\n",
       " 'Gold League III': 448,\n",
       " 'Gold League II': 1596,\n",
       " 'Gold League I': 1932,\n",
       " 'Crystal League III': 3472,\n",
       " 'Crystal League II': 4816,\n",
       " 'Crystal League I': 6580,\n",
       " 'Master League III': 4872,\n",
       " 'Master League II': 3500,\n",
       " 'Master League I': 2380,\n",
       " 'Champion League III': 2772,\n",
       " 'Champion League II': 1652,\n",
       " 'Champion League I': 812}"
      ]
     },
     "execution_count": 18,
     "metadata": {},
     "output_type": "execute_result"
    }
   ],
   "source": [
    "{key: (len(LeagueBins[key])) for key in  LeagueBins.keys()}"
   ]
  },
  {
   "cell_type": "code",
   "execution_count": 19,
   "id": "596d0504",
   "metadata": {},
   "outputs": [
    {
     "data": {
      "text/plain": [
       "{'Bronze League III': 0,\n",
       " 'Bronze League II': 0,\n",
       " 'Bronze League I': 0,\n",
       " 'Silver League III': 28,\n",
       " 'Silver League II': 112,\n",
       " 'Silver League I': 224,\n",
       " 'Gold League III': 448,\n",
       " 'Gold League II': 1593,\n",
       " 'Gold League I': 1904,\n",
       " 'Crystal League III': 3472,\n",
       " 'Crystal League II': 4788,\n",
       " 'Crystal League I': 6384,\n",
       " 'Master League III': 4816,\n",
       " 'Master League II': 3276,\n",
       " 'Master League I': 2268,\n",
       " 'Champion League III': 2520,\n",
       " 'Champion League II': 1484,\n",
       " 'Champion League I': 616}"
      ]
     },
     "execution_count": 19,
     "metadata": {},
     "output_type": "execute_result"
    }
   ],
   "source": [
    "{key: (len(pd.unique(LeagueBins[key]))) for key in  LeagueBins.keys()}"
   ]
  },
  {
   "cell_type": "code",
   "execution_count": 20,
   "id": "ce1f453a",
   "metadata": {},
   "outputs": [],
   "source": [
    "cwlRoundsBins={key: list(pd.unique(LeagueBins[key])) for key in  LeagueBins.keys()}"
   ]
  },
  {
   "cell_type": "code",
   "execution_count": 21,
   "id": "6bff2562",
   "metadata": {},
   "outputs": [
    {
     "name": "stdout",
     "output_type": "stream",
     "text": [
      "File name for the Pipeline to be saved as: PipelineRunAug.json\n"
     ]
    }
   ],
   "source": [
    "# write the updated file\n",
    "with open(input('File name for the Pipeline to be saved as: '),\"w\") as write_file:\n",
    "    json.dump(cwlRoundsBins, write_file)"
   ]
  },
  {
   "cell_type": "code",
   "execution_count": 22,
   "id": "72cfc950",
   "metadata": {},
   "outputs": [],
   "source": [
    "# write the updated file\n",
    "with open(f\"PipelineRun{month}.json\",\"w\") as write_file:\n",
    "    json.dump(cwlRoundsBins, write_file)"
   ]
  },
  {
   "cell_type": "code",
   "execution_count": null,
   "id": "282d290d",
   "metadata": {},
   "outputs": [],
   "source": []
  }
 ],
 "metadata": {
  "kernelspec": {
   "display_name": "Python 3 (ipykernel)",
   "language": "python",
   "name": "python3"
  },
  "language_info": {
   "codemirror_mode": {
    "name": "ipython",
    "version": 3
   },
   "file_extension": ".py",
   "mimetype": "text/x-python",
   "name": "python",
   "nbconvert_exporter": "python",
   "pygments_lexer": "ipython3",
   "version": "3.8.11"
  }
 },
 "nbformat": 4,
 "nbformat_minor": 5
}
