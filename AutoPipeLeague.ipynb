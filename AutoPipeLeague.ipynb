{
 "cells": [
  {
   "cell_type": "markdown",
   "id": "9289ef3b",
   "metadata": {},
   "source": [
    "# Clash of Clans CWL\n",
    "## Data pipeline build\n",
    "\n",
    "* Your Name: Nolan Clark\n",
    "* Name of API: Clash of Clans API\n",
    "* Link to main page of API documentation: https://developer.clashofclans.com/#/documentation"
   ]
  },
  {
   "cell_type": "code",
   "execution_count": 1,
   "id": "5e0a6347",
   "metadata": {},
   "outputs": [],
   "source": [
    "# Imports go here\n",
    "import requests\n",
    "import pandas as pd\n",
    "import numpy as np\n",
    "import MyKeys\n",
    "\n",
    "import json\n",
    "import datetime\n",
    "\n",
    "import CWL_Functions as cf\n",
    "from collections import Counter\n",
    "from collections import defaultdict\n",
    "\n",
    "import time\n",
    "\n",
    "# API Token used with the documented Authorization header. \n",
    "# The headers are the necessary params of each endpoint\n",
    "MyToken = MyKeys.MyToken\n",
    "headers = {'authorization': 'Bearer '+(MyToken), 'Accept': 'application/json'}\n",
    "base = 'https://api.clashofclans.com/v1/'"
   ]
  },
  {
   "cell_type": "code",
   "execution_count": 2,
   "id": "79b4d4e4",
   "metadata": {},
   "outputs": [],
   "source": [
    "start_all= time.time()\n",
    "LeagueBins = {'Bronze League III': [],\n",
    " 'Bronze League II': [],\n",
    " 'Bronze League I': [],\n",
    " 'Silver League III': [],\n",
    " 'Silver League II': [],\n",
    " 'Silver League I': [],\n",
    " 'Gold League III': [],\n",
    " 'Gold League II': [],\n",
    " 'Gold League I': [],\n",
    " 'Crystal League III': [],\n",
    " 'Crystal League II': [],\n",
    " 'Crystal League I': [],\n",
    " 'Master League III': [],\n",
    " 'Master League II': [],\n",
    " 'Master League I': [],\n",
    " 'Champion League III': [],\n",
    " 'Champion League II': [],\n",
    " 'Champion League I': []}"
   ]
  },
  {
   "cell_type": "code",
   "execution_count": 3,
   "id": "c22bbd1a",
   "metadata": {},
   "outputs": [],
   "source": [
    "tag_bin = {'Bronze League III': [],\n",
    " 'Bronze League II': [],\n",
    " 'Bronze League I': [],\n",
    " 'Silver League III': [],\n",
    " 'Silver League II': [],\n",
    " 'Silver League I': [],\n",
    " 'Gold League III': [],\n",
    " 'Gold League II': [],\n",
    " 'Gold League I': [],\n",
    " 'Crystal League III': [],\n",
    " 'Crystal League II': [],\n",
    " 'Crystal League I': [],\n",
    " 'Master League III': [],\n",
    " 'Master League II': [],\n",
    " 'Master League I': [],\n",
    " 'Champion League III': [],\n",
    " 'Champion League II': [],\n",
    " 'Champion League I': []}"
   ]
  },
  {
   "cell_type": "code",
   "execution_count": 4,
   "id": "a65b42ab",
   "metadata": {},
   "outputs": [],
   "source": [
    "def search_clans(limit, clanPoints='',minMem='', after=''):\n",
    "    \n",
    "    if clanPoints !='':\n",
    "        clanPoints = f'minClanPoints={clanPoints}'\n",
    "        \n",
    "    if minMem !='':\n",
    "        minMem = f'minMembers={minMem}'\n",
    "    \n",
    "    if after != '':\n",
    "        after= f'&after={after}'\n",
    "    \n",
    "    url=f'https://api.clashofclans.com/v1/clans?{minMem}{clanPoints}&limit={limit}{after}'\n",
    "    response = requests.get(url, headers=headers, timeout=30)\n",
    "    print(response.status_code, response.reason)\n",
    "    \n",
    "    top_clans=[i['tag'].strip('#') for i in response.json()['items']]\n",
    "    \n",
    "    #top_clans=response.json()\n",
    "    \n",
    "    try:\n",
    "        after = response.json()['paging'].get('cursors')['after']\n",
    "    except:\n",
    "        after = False\n",
    "    \n",
    "    return top_clans, after\n",
    "    "
   ]
  },
  {
   "cell_type": "code",
   "execution_count": 5,
   "id": "06207079",
   "metadata": {},
   "outputs": [],
   "source": [
    "def meltLeague(ClanTag):\n",
    "    url='https://api.clashofclans.com/v1/clans/%23'+ClanTag\n",
    "    response = requests.get(url, headers=headers, timeout=30)\n",
    "    #print(response.status_code, response.reason)\n",
    "    league= response.json()['warLeague']['name']\n",
    "    \n",
    "    \n",
    "    return league"
   ]
  },
  {
   "cell_type": "code",
   "execution_count": 6,
   "id": "39ecbaf8",
   "metadata": {},
   "outputs": [],
   "source": [
    "def grabTagsBig(ClanTag):\n",
    "    collect = []\n",
    "    \n",
    "    url='https://api.clashofclans.com/v1/clans/%23'+ClanTag+'/currentwar/leaguegroup'\n",
    "    response = requests.get(url, headers=headers, timeout=30)\n",
    "    #print(response.status_code, response.reason)\n",
    "    \n",
    "    \n",
    "    # range of 7 so that only CWL with all rounds will be pulled\n",
    "    for i in range(7):\n",
    "        collect.extend(response.json().get('rounds')[i].get('warTags'))\n",
    "    \n",
    "    collDict = collect\n",
    "    \n",
    "    return collDict"
   ]
  },
  {
   "cell_type": "code",
   "execution_count": 7,
   "id": "2f7a61a7",
   "metadata": {},
   "outputs": [
    {
     "name": "stdout",
     "output_type": "stream",
     "text": [
      "200 OK\n",
      "200 OK\n",
      "200 OK\n",
      "200 OK\n",
      "200 OK\n",
      "200 OK\n",
      "200 OK\n",
      "200 OK\n",
      "200 OK\n",
      "200 OK\n",
      "200 OK\n",
      "200 OK\n",
      "200 OK\n",
      "200 OK\n",
      "200 OK\n",
      "200 OK\n",
      "200 OK\n",
      "200 OK\n",
      "200 OK\n",
      "200 OK\n",
      "200 OK\n",
      "200 OK\n",
      "200 OK\n",
      "200 OK\n",
      "200 OK\n",
      "200 OK\n",
      "200 OK\n",
      "200 OK\n",
      "200 OK\n",
      "200 OK\n",
      "200 OK\n",
      "200 OK\n",
      "200 OK\n",
      "200 OK\n",
      "200 OK\n",
      "200 OK\n",
      "6.153577089309692\n"
     ]
    }
   ],
   "source": [
    "start = time.time()\n",
    "bucket = []\n",
    "clanPointInts = [20000,30000,40000,50000]\n",
    "\n",
    "for points in clanPointInts:\n",
    "    \n",
    "    after_page = ''\n",
    "    while after_page != False:\n",
    "        all_tags = search_clans(limit=100,clanPoints=points,minMem='',after=after_page)\n",
    "        bucket.extend(all_tags[0])\n",
    "        after_page = all_tags[1]\n",
    "        \n",
    "end = time.time()\n",
    "print(end - start)"
   ]
  },
  {
   "cell_type": "code",
   "execution_count": 8,
   "id": "225881d3",
   "metadata": {},
   "outputs": [
    {
     "data": {
      "text/plain": [
       "3328"
      ]
     },
     "execution_count": 8,
     "metadata": {},
     "output_type": "execute_result"
    }
   ],
   "source": [
    "len(bucket)"
   ]
  },
  {
   "cell_type": "code",
   "execution_count": 9,
   "id": "d3ce3e6a",
   "metadata": {},
   "outputs": [],
   "source": [
    "top_clans = pd.unique(bucket)"
   ]
  },
  {
   "cell_type": "code",
   "execution_count": 10,
   "id": "b87f9961",
   "metadata": {},
   "outputs": [
    {
     "name": "stdout",
     "output_type": "stream",
     "text": [
      "814.8809509277344\n"
     ]
    }
   ],
   "source": [
    "start = time.time()\n",
    "inWar_bin = []\n",
    "for i in top_clans:\n",
    "    j = cf.status15(i)\n",
    "    if j != False:\n",
    "        inWar_bin.append(i)\n",
    "end = time.time()\n",
    "print(end - start)"
   ]
  },
  {
   "cell_type": "code",
   "execution_count": 11,
   "id": "bec9b93c",
   "metadata": {},
   "outputs": [],
   "source": [
    "for clan in inWar_bin:\n",
    "    tag_bin[meltLeague(clan)].append(clan)"
   ]
  },
  {
   "cell_type": "code",
   "execution_count": 13,
   "id": "b49946e4",
   "metadata": {},
   "outputs": [
    {
     "name": "stdout",
     "output_type": "stream",
     "text": [
      "Bronze League III\n",
      "Bronze League II\n",
      "Bronze League I\n",
      "Silver League III\n",
      "Silver League II\n",
      "Silver League I\n",
      "Gold League III\n",
      "Gold League II\n",
      "Gold League I\n",
      "Crystal League III\n",
      "Crystal League II\n",
      "Crystal League I\n",
      "Master League III\n",
      "Master League II\n",
      "Master League I\n",
      "Champion League III\n",
      "Champion League II\n",
      "Champion League I\n"
     ]
    }
   ],
   "source": [
    "# LARGE GRAB\n",
    "\n",
    "leagueNames=list(tag_bin.keys())\n",
    "\n",
    "for league in leagueNames:\n",
    "    print(league)\n",
    "    for tag in tag_bin[league]:\n",
    "        try:\n",
    "            rounds = grabTagsBig(tag)\n",
    "            LeagueBins[league].extend(rounds)\n",
    "        except (TypeError, IndexError):\n",
    "            pass"
   ]
  },
  {
   "cell_type": "markdown",
   "id": "11fd3d66",
   "metadata": {},
   "source": [
    "# Diagnostics "
   ]
  },
  {
   "cell_type": "code",
   "execution_count": 14,
   "id": "da4bee80",
   "metadata": {},
   "outputs": [
    {
     "name": "stdout",
     "output_type": "stream",
     "text": [
      "1550.5044167041779\n"
     ]
    }
   ],
   "source": [
    "end_all = time.time()\n",
    "print(end_all - start_all)"
   ]
  },
  {
   "cell_type": "code",
   "execution_count": 15,
   "id": "c5a3f0fb",
   "metadata": {},
   "outputs": [
    {
     "data": {
      "text/plain": [
       "{'Bronze League III': 0,\n",
       " 'Bronze League II': 0,\n",
       " 'Bronze League I': 0,\n",
       " 'Silver League III': 0,\n",
       " 'Silver League II': 56,\n",
       " 'Silver League I': 168,\n",
       " 'Gold League III': 1064,\n",
       " 'Gold League II': 1904,\n",
       " 'Gold League I': 3864,\n",
       " 'Crystal League III': 6272,\n",
       " 'Crystal League II': 9184,\n",
       " 'Crystal League I': 17192,\n",
       " 'Master League III': 12488,\n",
       " 'Master League II': 7616,\n",
       " 'Master League I': 4928,\n",
       " 'Champion League III': 5096,\n",
       " 'Champion League II': 2996,\n",
       " 'Champion League I': 728}"
      ]
     },
     "execution_count": 15,
     "metadata": {},
     "output_type": "execute_result"
    }
   ],
   "source": [
    "{key: (len(LeagueBins[key])) for key in  LeagueBins.keys()}"
   ]
  },
  {
   "cell_type": "code",
   "execution_count": 16,
   "id": "596d0504",
   "metadata": {},
   "outputs": [
    {
     "data": {
      "text/plain": [
       "{'Bronze League III': 0,\n",
       " 'Bronze League II': 0,\n",
       " 'Bronze League I': 0,\n",
       " 'Silver League III': 0,\n",
       " 'Silver League II': 28,\n",
       " 'Silver League I': 84,\n",
       " 'Gold League III': 504,\n",
       " 'Gold League II': 952,\n",
       " 'Gold League I': 1932,\n",
       " 'Crystal League III': 3080,\n",
       " 'Crystal League II': 4592,\n",
       " 'Crystal League I': 8484,\n",
       " 'Master League III': 6076,\n",
       " 'Master League II': 3780,\n",
       " 'Master League I': 2408,\n",
       " 'Champion League III': 2352,\n",
       " 'Champion League II': 1400,\n",
       " 'Champion League I': 420}"
      ]
     },
     "execution_count": 16,
     "metadata": {},
     "output_type": "execute_result"
    }
   ],
   "source": [
    "{key: (len(pd.unique(LeagueBins[key]))) for key in  LeagueBins.keys()}"
   ]
  },
  {
   "cell_type": "code",
   "execution_count": 17,
   "id": "1ea1fd0b",
   "metadata": {},
   "outputs": [
    {
     "data": {
      "text/plain": [
       "{'Bronze League III': 0,\n",
       " 'Bronze League II': 0,\n",
       " 'Bronze League I': 0,\n",
       " 'Silver League III': 0,\n",
       " 'Silver League II': 1,\n",
       " 'Silver League I': 3,\n",
       " 'Gold League III': 19,\n",
       " 'Gold League II': 34,\n",
       " 'Gold League I': 69,\n",
       " 'Crystal League III': 112,\n",
       " 'Crystal League II': 164,\n",
       " 'Crystal League I': 308,\n",
       " 'Master League III': 223,\n",
       " 'Master League II': 136,\n",
       " 'Master League I': 88,\n",
       " 'Champion League III': 92,\n",
       " 'Champion League II': 55,\n",
       " 'Champion League I': 17}"
      ]
     },
     "execution_count": 17,
     "metadata": {},
     "output_type": "execute_result"
    }
   ],
   "source": [
    "{key: (len(tag_bin[key])) for key in  tag_bin.keys()}"
   ]
  },
  {
   "cell_type": "code",
   "execution_count": 18,
   "id": "f6c7276c",
   "metadata": {},
   "outputs": [
    {
     "data": {
      "text/plain": [
       "{'Bronze League III': 0,\n",
       " 'Bronze League II': 0,\n",
       " 'Bronze League I': 0,\n",
       " 'Silver League III': 0,\n",
       " 'Silver League II': 1,\n",
       " 'Silver League I': 3,\n",
       " 'Gold League III': 19,\n",
       " 'Gold League II': 34,\n",
       " 'Gold League I': 69,\n",
       " 'Crystal League III': 112,\n",
       " 'Crystal League II': 164,\n",
       " 'Crystal League I': 308,\n",
       " 'Master League III': 223,\n",
       " 'Master League II': 136,\n",
       " 'Master League I': 88,\n",
       " 'Champion League III': 92,\n",
       " 'Champion League II': 55,\n",
       " 'Champion League I': 17}"
      ]
     },
     "execution_count": 18,
     "metadata": {},
     "output_type": "execute_result"
    }
   ],
   "source": [
    "{key: (len(pd.unique(tag_bin[key]))) for key in  tag_bin.keys()}"
   ]
  },
  {
   "cell_type": "code",
   "execution_count": 19,
   "id": "ce1f453a",
   "metadata": {},
   "outputs": [],
   "source": [
    "cwlRoundsBins={key: list(pd.unique(LeagueBins[key])) for key in  LeagueBins.keys()}"
   ]
  },
  {
   "cell_type": "code",
   "execution_count": 20,
   "id": "72cfc950",
   "metadata": {},
   "outputs": [],
   "source": [
    "# write the updated file\n",
    "with open(\"PipelineRunOne.json\",\"w\") as write_file:\n",
    "    json.dump(cwlRoundsBins, write_file)"
   ]
  }
 ],
 "metadata": {
  "kernelspec": {
   "display_name": "Python 3 (ipykernel)",
   "language": "python",
   "name": "python3"
  },
  "language_info": {
   "codemirror_mode": {
    "name": "ipython",
    "version": 3
   },
   "file_extension": ".py",
   "mimetype": "text/x-python",
   "name": "python",
   "nbconvert_exporter": "python",
   "pygments_lexer": "ipython3",
   "version": "3.8.11"
  }
 },
 "nbformat": 4,
 "nbformat_minor": 5
}
