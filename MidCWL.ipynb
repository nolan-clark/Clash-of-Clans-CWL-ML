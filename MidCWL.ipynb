{
 "cells": [
  {
   "cell_type": "markdown",
   "id": "de2bd339",
   "metadata": {},
   "source": [
    "# Clash of Clans CWL\n",
    "## Mid CWL Tracking\n",
    "\n",
    "\n",
    "This is the workspace to QA data between pipeline and dataframe. All cwl must be finished before transformation.\n",
    "\n",
    "\n",
    "* Your Name: Nolan Clark\n",
    "* Name of API: Clash of Clans API\n",
    "* Link to main page of API documentation: https://developer.clashofclans.com/#/documentation"
   ]
  },
  {
   "cell_type": "code",
   "execution_count": 1,
   "id": "6353bd12",
   "metadata": {},
   "outputs": [],
   "source": [
    "# Imports go here\n",
    "## these are imported in the CWL_Functions file\n",
    "# import requests\n",
    "\n",
    "import MyKeys\n",
    "import json\n",
    "import CWL_Functions as cf\n",
    "import requests\n",
    "from collections import Counter, defaultdict\n",
    "import time\n",
    "import datetime\n",
    "# API Token used with the documented Authorization header. \n",
    "# The headers are the necessary params of each endpoint\n",
    "MyToken = MyKeys.MyToken\n",
    "headers = {'authorization': 'Bearer '+(MyToken), 'Accept': 'application/json'}\n",
    "session = requests.Session()\n",
    "session.headers.update(headers)"
   ]
  },
  {
   "cell_type": "code",
   "execution_count": 2,
   "id": "f98acd51",
   "metadata": {},
   "outputs": [],
   "source": [
    "# Start timer\n",
    "start_all= time.time()"
   ]
  },
  {
   "cell_type": "code",
   "execution_count": 3,
   "id": "1ce03517",
   "metadata": {},
   "outputs": [],
   "source": [
    "leagues = [ 'Gold League III',\n",
    "            'Gold League II',\n",
    "            'Gold League I',\n",
    "            'Crystal League III',\n",
    "            'Crystal League II',\n",
    "            'Crystal League I',\n",
    "            'Master League III',\n",
    "            'Master League II',\n",
    "            'Master League I',\n",
    "            'Champion League III',\n",
    "            'Champion League II',\n",
    "            'Champion League I']"
   ]
  },
  {
   "cell_type": "code",
   "execution_count": 4,
   "id": "997e5980",
   "metadata": {},
   "outputs": [],
   "source": [
    "# Automate pointers for the pipeline -- avoid erasing previous month\n",
    "month=datetime.datetime.now().strftime('%B')"
   ]
  },
  {
   "cell_type": "code",
   "execution_count": 5,
   "id": "dd1e0cfb",
   "metadata": {},
   "outputs": [],
   "source": [
    "# open JSON file to update with current CWL\n",
    "with open(f\"PipelineRun{month}.json\") as fp:\n",
    "    LeagueBins = json.load(fp)"
   ]
  },
  {
   "cell_type": "code",
   "execution_count": 6,
   "id": "49eea58b",
   "metadata": {},
   "outputs": [
    {
     "data": {
      "text/plain": [
       "{'Bronze League III': 0,\n",
       " 'Bronze League II': 0,\n",
       " 'Bronze League I': 0,\n",
       " 'Silver League III': 28,\n",
       " 'Silver League II': 28,\n",
       " 'Silver League I': 168,\n",
       " 'Gold League III': 588,\n",
       " 'Gold League II': 1148,\n",
       " 'Gold League I': 1820,\n",
       " 'Crystal League III': 3164,\n",
       " 'Crystal League II': 4172,\n",
       " 'Crystal League I': 6944,\n",
       " 'Master League III': 5096,\n",
       " 'Master League II': 3248,\n",
       " 'Master League I': 2520,\n",
       " 'Champion League III': 2660,\n",
       " 'Champion League II': 1400,\n",
       " 'Champion League I': 700}"
      ]
     },
     "execution_count": 6,
     "metadata": {},
     "output_type": "execute_result"
    }
   ],
   "source": [
    "{key: (len(LeagueBins[key])) for key in  LeagueBins.keys()}"
   ]
  },
  {
   "cell_type": "code",
   "execution_count": 7,
   "id": "695c22c3",
   "metadata": {},
   "outputs": [],
   "source": [
    "dud_bin = {\n",
    "            'Bronze League III': [],\n",
    "            'Bronze League II': [],\n",
    "            'Bronze League I': [],\n",
    "            'Silver League III': [],\n",
    "            'Silver League II': [],\n",
    "            'Silver League I': [],\n",
    "            'Gold League III': [],\n",
    "            'Gold League II': [],\n",
    "            'Gold League I': [],\n",
    "            'Crystal League III': [],\n",
    "            'Crystal League II': [],\n",
    "            'Crystal League I': [],\n",
    "            'Master League III': [],\n",
    "            'Master League II': [],\n",
    "            'Master League I': [],\n",
    "            'Champion League III': [],\n",
    "            'Champion League II': [],\n",
    "            'Champion League I': []}"
   ]
  },
  {
   "cell_type": "code",
   "execution_count": 8,
   "id": "be15e25d",
   "metadata": {},
   "outputs": [
    {
     "name": "stdout",
     "output_type": "stream",
     "text": [
      "Gold League III\n",
      "Gold League II\n",
      "Gold League I\n",
      "Crystal League III\n",
      "Crystal League II\n",
      "Crystal League I\n",
      "dud found:  #889CP999V\n",
      "dud found:  #889CP9PG9\n",
      "dud found:  #889CP92VR\n",
      "dud found:  #889CP9YUQ\n",
      "dud found:  #88P00UQYR\n",
      "dud found:  #88P00UJ09\n",
      "dud found:  #88P00UGRV\n",
      "dud found:  #88P00UCPQ\n",
      "dud found:  #88P8GCLRV\n",
      "dud found:  #88P8GCG09\n",
      "dud found:  #88P8GCRPQ\n",
      "dud found:  #88P8GCJGC\n",
      "dud found:  #88PYPU8RY\n",
      "dud found:  #88PYPU9VR\n",
      "dud found:  #88PYPUY9V\n",
      "dud found:  #88PYPULG9\n",
      "dud found:  #88PQVVCJC\n",
      "dud found:  #88PG000YY\n",
      "dud found:  #88PQVVV22\n",
      "dud found:  #88PG008VV\n",
      "dud found:  #88PJJ899Y\n",
      "dud found:  #88PJJ8PQR\n",
      "dud found:  #88PJJ8YCV\n",
      "dud found:  #88PJJ8Q89\n",
      "dud found:  #88PCU0JPC\n",
      "dud found:  #88PCU0CR2\n",
      "dud found:  #88PCU0UVY\n",
      "dud found:  #88PCU209R\n",
      "Master League III\n",
      "Master League II\n",
      "Master League I\n",
      "Champion League III\n",
      "Champion League II\n",
      "Champion League I\n",
      "2974.873340845108\n",
      "time.struct_time(tm_year=2023, tm_mon=8, tm_mday=12, tm_hour=15, tm_min=17, tm_sec=35, tm_wday=5, tm_yday=224, tm_isdst=1)\n"
     ]
    }
   ],
   "source": [
    "# Test all warTags states as warEnded before transforming into dataframe\n",
    "\n",
    "start=time.time()\n",
    "\n",
    "c = {'warEnded':0}\n",
    "#leagues = ['Crystal League III']\n",
    "lastEnd = time.localtime()\n",
    "\n",
    "for league in leagues:\n",
    "    print(league)\n",
    "    for warTag in LeagueBins[league]:\n",
    "        war_id_transformed = warTag.strip('#')\n",
    "        url=('https://api.clashofclans.com/v1/clanwarleagues/wars/%23'+(war_id_transformed))\n",
    "        try:\n",
    "            response = session.get(url, timeout=10)\n",
    "            roundJSON = response.json()\n",
    "            c[roundJSON['state']]+=1\n",
    "        except KeyError:\n",
    "            try:\n",
    "                flag = time.strptime(roundJSON['endTime'], '%Y%m%dT%H%M%S.%fZ')\n",
    "                if lastEnd < flag:\n",
    "                    lastEnd = flag\n",
    "                    print('Final end updated.')\n",
    "                pass\n",
    "            except KeyError:\n",
    "                dud_bin[league].append(warTag)\n",
    "                print('dud found:  '+warTag)\n",
    "                pass\n",
    "    else:\n",
    "        continue\n",
    "    break\n",
    "\n",
    "    \n",
    "end=time.time()\n",
    "print(end-start)\n",
    "print(lastEnd)"
   ]
  },
  {
   "cell_type": "code",
   "execution_count": 9,
   "id": "3726f376",
   "metadata": {},
   "outputs": [
    {
     "data": {
      "text/plain": [
       "{'Bronze League III': 0,\n",
       " 'Bronze League II': 0,\n",
       " 'Bronze League I': 0,\n",
       " 'Silver League III': 0,\n",
       " 'Silver League II': 0,\n",
       " 'Silver League I': 0,\n",
       " 'Gold League III': 0,\n",
       " 'Gold League II': 0,\n",
       " 'Gold League I': 0,\n",
       " 'Crystal League III': 0,\n",
       " 'Crystal League II': 0,\n",
       " 'Crystal League I': 28,\n",
       " 'Master League III': 0,\n",
       " 'Master League II': 0,\n",
       " 'Master League I': 0,\n",
       " 'Champion League III': 0,\n",
       " 'Champion League II': 0,\n",
       " 'Champion League I': 0}"
      ]
     },
     "execution_count": 9,
     "metadata": {},
     "output_type": "execute_result"
    }
   ],
   "source": [
    "{key: (len(dud_bin[key])) for key in  dud_bin.keys()}"
   ]
  },
  {
   "cell_type": "code",
   "execution_count": 10,
   "id": "873b8a29",
   "metadata": {},
   "outputs": [
    {
     "data": {
      "text/plain": [
       "['#889CP999V',\n",
       " '#889CP9PG9',\n",
       " '#889CP92VR',\n",
       " '#889CP9YUQ',\n",
       " '#88P00UQYR',\n",
       " '#88P00UJ09',\n",
       " '#88P00UGRV',\n",
       " '#88P00UCPQ',\n",
       " '#88P8GCLRV',\n",
       " '#88P8GCG09',\n",
       " '#88P8GCRPQ',\n",
       " '#88P8GCJGC',\n",
       " '#88PYPU8RY',\n",
       " '#88PYPU9VR',\n",
       " '#88PYPUY9V',\n",
       " '#88PYPULG9',\n",
       " '#88PQVVCJC',\n",
       " '#88PG000YY',\n",
       " '#88PQVVV22',\n",
       " '#88PG008VV',\n",
       " '#88PJJ899Y',\n",
       " '#88PJJ8PQR',\n",
       " '#88PJJ8YCV',\n",
       " '#88PJJ8Q89',\n",
       " '#88PCU0JPC',\n",
       " '#88PCU0CR2',\n",
       " '#88PCU0UVY',\n",
       " '#88PCU209R']"
      ]
     },
     "execution_count": 10,
     "metadata": {},
     "output_type": "execute_result"
    }
   ],
   "source": [
    "dud_bin['Crystal League I']"
   ]
  },
  {
   "cell_type": "code",
   "execution_count": 11,
   "id": "c25bfd52",
   "metadata": {},
   "outputs": [],
   "source": [
    "vLeagueBins = {\n",
    "            'Bronze League III': [],\n",
    "            'Bronze League II': [],\n",
    "            'Bronze League I': [],\n",
    "            'Silver League III': [],\n",
    "            'Silver League II': [],\n",
    "            'Silver League I': [],\n",
    "            'Gold League III': [],\n",
    "            'Gold League II': [],\n",
    "            'Gold League I': [],\n",
    "            'Crystal League III': [],\n",
    "            'Crystal League II': [],\n",
    "            'Crystal League I': [],\n",
    "            'Master League III': [],\n",
    "            'Master League II': [],\n",
    "            'Master League I': [],\n",
    "            'Champion League III': [],\n",
    "            'Champion League II': [],\n",
    "            'Champion League I': []}"
   ]
  },
  {
   "cell_type": "code",
   "execution_count": 12,
   "id": "4caf6530",
   "metadata": {},
   "outputs": [
    {
     "name": "stdout",
     "output_type": "stream",
     "text": [
      "0.01081991195678711\n"
     ]
    }
   ],
   "source": [
    "start = time.time()\n",
    "for league in leagues:\n",
    "    filtered_list=list(filter(lambda i: i not in dud_bin[league], LeagueBins[league]))\n",
    "    vLeagueBins[league] = filtered_list\n",
    "    \n",
    "end = time.time()\n",
    "print(end - start)"
   ]
  },
  {
   "cell_type": "markdown",
   "id": "6e13a9c9",
   "metadata": {},
   "source": [
    "#  Post cwl check json"
   ]
  },
  {
   "cell_type": "code",
   "execution_count": 13,
   "id": "8660f395",
   "metadata": {},
   "outputs": [
    {
     "name": "stdout",
     "output_type": "stream",
     "text": [
      "2974.9638800621033\n"
     ]
    }
   ],
   "source": [
    "end_all = time.time()\n",
    "print(end_all - start_all)"
   ]
  },
  {
   "cell_type": "code",
   "execution_count": 14,
   "id": "b8811f27",
   "metadata": {},
   "outputs": [
    {
     "data": {
      "text/plain": [
       "{'Bronze League III': 0,\n",
       " 'Bronze League II': 0,\n",
       " 'Bronze League I': 0,\n",
       " 'Silver League III': 0,\n",
       " 'Silver League II': 0,\n",
       " 'Silver League I': 0,\n",
       " 'Gold League III': 588,\n",
       " 'Gold League II': 1148,\n",
       " 'Gold League I': 1820,\n",
       " 'Crystal League III': 3164,\n",
       " 'Crystal League II': 4172,\n",
       " 'Crystal League I': 6916,\n",
       " 'Master League III': 5096,\n",
       " 'Master League II': 3248,\n",
       " 'Master League I': 2520,\n",
       " 'Champion League III': 2660,\n",
       " 'Champion League II': 1400,\n",
       " 'Champion League I': 700}"
      ]
     },
     "execution_count": 14,
     "metadata": {},
     "output_type": "execute_result"
    }
   ],
   "source": [
    "{key: (len(vLeagueBins[key])) for key in  vLeagueBins.keys()}"
   ]
  },
  {
   "cell_type": "code",
   "execution_count": 15,
   "id": "99457f4d",
   "metadata": {},
   "outputs": [],
   "source": [
    "# write the updated file\n",
    "with open(f\"PipelineRun{month}VERIFIED.json\",\"w\") as write_file:\n",
    "    json.dump(vLeagueBins, write_file)"
   ]
  },
  {
   "cell_type": "code",
   "execution_count": 16,
   "id": "a8e8189e",
   "metadata": {},
   "outputs": [
    {
     "data": {
      "text/plain": [
       "{'Bronze League III': 0,\n",
       " 'Bronze League II': 0,\n",
       " 'Bronze League I': 0,\n",
       " 'Silver League III': 28,\n",
       " 'Silver League II': 28,\n",
       " 'Silver League I': 168,\n",
       " 'Gold League III': 588,\n",
       " 'Gold League II': 1148,\n",
       " 'Gold League I': 1820,\n",
       " 'Crystal League III': 3164,\n",
       " 'Crystal League II': 4172,\n",
       " 'Crystal League I': 6944,\n",
       " 'Master League III': 5096,\n",
       " 'Master League II': 3248,\n",
       " 'Master League I': 2520,\n",
       " 'Champion League III': 2660,\n",
       " 'Champion League II': 1400,\n",
       " 'Champion League I': 700}"
      ]
     },
     "execution_count": 16,
     "metadata": {},
     "output_type": "execute_result"
    }
   ],
   "source": [
    "{key: (len(LeagueBins[key])) for key in  LeagueBins.keys()}"
   ]
  }
 ],
 "metadata": {
  "kernelspec": {
   "display_name": "Python 3 (ipykernel)",
   "language": "python",
   "name": "python3"
  },
  "language_info": {
   "codemirror_mode": {
    "name": "ipython",
    "version": 3
   },
   "file_extension": ".py",
   "mimetype": "text/x-python",
   "name": "python",
   "nbconvert_exporter": "python",
   "pygments_lexer": "ipython3",
   "version": "3.8.11"
  }
 },
 "nbformat": 4,
 "nbformat_minor": 5
}
